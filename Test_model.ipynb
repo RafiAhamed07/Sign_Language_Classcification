{
 "cells": [
  {
   "cell_type": "code",
   "execution_count": 1,
   "id": "4c172950-4ad2-4a09-8fb2-4c96c93127aa",
   "metadata": {},
   "outputs": [],
   "source": [
    "import numpy as np\n",
    "import tensorflow as tf\n",
    "from tensorflow import keras\n",
    "from tensorflow.keras.layers import Dense, Activation\n",
    "from tensorflow.keras.optimizers import Adam\n",
    "from tensorflow.keras.metrics import categorical_crossentropy\n",
    "from tensorflow.keras.preprocessing.image import ImageDataGenerator\n",
    "from tensorflow.keras.preprocessing import image\n",
    "from tensorflow.keras.models import Model\n",
    "from tensorflow.keras.applications import imagenet_utils\n",
    "from tensorflow.keras.models import load_model\n",
    "from sklearn.metrics import confusion_matrix\n",
    "import itertools\n",
    "import os\n",
    "import shutil\n",
    "import random\n",
    "import matplotlib.pyplot as plt\n",
    "%matplotlib inline"
   ]
  },
  {
   "cell_type": "code",
   "execution_count": 2,
   "id": "bcde1c1f-b95b-4f3b-b734-9d0a4a91eca1",
   "metadata": {},
   "outputs": [
    {
     "name": "stdout",
     "output_type": "stream",
     "text": [
      "✅ GPU memory growth enabled.\n"
     ]
    }
   ],
   "source": [
    "# Enable GPU memory growth if GPU is available\n",
    "physical_devices = tf.config.list_physical_devices('GPU')\n",
    "if physical_devices:\n",
    "    try:\n",
    "        tf.config.experimental.set_memory_growth(physical_devices[0], True)\n",
    "        print(\"✅ GPU memory growth enabled.\")\n",
    "    except:\n",
    "        print(\"⚠️ Could not set GPU memory growth.\")\n",
    "else:\n",
    "    print(\"🖥️ Running on CPU.\")"
   ]
  },
  {
   "cell_type": "code",
   "execution_count": 3,
   "id": "de47e33b-81bb-4e2d-b3a0-06a3632fb504",
   "metadata": {},
   "outputs": [],
   "source": [
    "model = load_model('models/Sign_Language_recognition_model.h5', compile=False)"
   ]
  },
  {
   "cell_type": "code",
   "execution_count": 4,
   "id": "2db59c5e-48d4-4096-86d4-c9947713d8a2",
   "metadata": {},
   "outputs": [],
   "source": [
    "# Use this list based on how many classes your model was trained on\n",
    "class_labels = ['0', '1', '2', '3', '4', '5', '6', '7', '8', '9', 'A', 'B', 'C', 'D', 'E', 'F', 'G', 'H', 'I', 'J', 'K', 'L','M', 'N', 'O', 'P', 'Q', 'R', 'S', 'T', 'U', 'V', 'W', 'X', 'Y', 'Z']\n",
    " # Example for digits 0–9\n",
    "# Image preprocessing\n",
    "def prepare_image(file):\n",
    "    img_path = 'data/Gesture_data/NewTest/'\n",
    "    img = image.load_img(img_path + file, target_size=(224, 224))\n",
    "    img_array = image.img_to_array(img)\n",
    "    img_array_expanded_dims = np.expand_dims(img_array, axis=0)\n",
    "    return tf.keras.applications.mobilenet.preprocess_input(img_array_expanded_dims)"
   ]
  },
  {
   "cell_type": "code",
   "execution_count": 8,
   "id": "97b2b949-de6b-42ed-8995-5849ba733414",
   "metadata": {},
   "outputs": [
    {
     "data": {
      "image/jpeg": "[encoded data removed]",
      "text/plain": [
       "<IPython.core.display.Image object>"
      ]
     },
     "metadata": {
      "image/jpeg": {
       "height": 200,
       "width": 300
      }
     },
     "output_type": "display_data"
    }
   ],
   "source": [
    "from IPython.display import Image, display\n",
    "\n",
    "file_name = '38.jpg'\n",
    "img = Image(filename=f'data/Gesture_data/NewTest/{file_name}', width=300, height=200)\n",
    "display(img)\n"
   ]
  },
  {
   "cell_type": "code",
   "execution_count": 9,
   "id": "b1b8d0f1-da41-444d-b12f-b9f1c08b38da",
   "metadata": {},
   "outputs": [
    {
     "name": "stdout",
     "output_type": "stream",
     "text": [
      "1/1 [==============================] - 0s 19ms/step\n",
      "Predicted class: 5 (Confidence: 1.00)\n"
     ]
    }
   ],
   "source": [
    "# Make prediction\n",
    "preprocessed_image = prepare_image(file_name)\n",
    "predictions = model.predict(preprocessed_image)\n",
    "\n",
    "# Interpret result\n",
    "predicted_class = class_labels[int(predictions[0].argmax())]\n",
    "confidence = float(predictions[0].max())\n",
    "\n",
    "print(f\"Predicted class: {predicted_class} (Confidence: {confidence:.2f})\")"
   ]
  },
  {
   "cell_type": "code",
   "execution_count": 10,
   "id": "8734b415-51fa-41fc-b40a-817ec47305e1",
   "metadata": {},
   "outputs": [
    {
     "data": {
      "image/jpeg": "[encoded data removed]",
      "text/plain": [
       "<IPython.core.display.Image object>"
      ]
     },
     "metadata": {
      "image/jpeg": {
       "height": 200,
       "width": 300
      }
     },
     "output_type": "display_data"
    }
   ],
   "source": [
    "from IPython.display import Image, display\n",
    "\n",
    "file_name = '81.jpg'\n",
    "img = Image(filename=f'data/Gesture_data/NewTest/{file_name}', width=300, height=200)\n",
    "display(img)\n"
   ]
  },
  {
   "cell_type": "code",
   "execution_count": 11,
   "id": "182ae19a-69a0-4f16-aa6d-4b1cd10a3c82",
   "metadata": {
    "collapsed": true,
    "jupyter": {
     "outputs_hidden": true
    }
   },
   "outputs": [
    {
     "name": "stdout",
     "output_type": "stream",
     "text": [
      "1/1 [==============================] - 0s 15ms/step\n",
      "Predicted class: M (Confidence: 1.00)\n"
     ]
    }
   ],
   "source": [
    "# Make prediction\n",
    "preprocessed_image = prepare_image(file_name)\n",
    "predictions = model.predict(preprocessed_image)\n",
    "\n",
    "# Interpret result\n",
    "predicted_class = class_labels[int(predictions[0].argmax())]\n",
    "confidence = float(predictions[0].max())\n",
    "\n",
    "print(f\"Predicted class: {predicted_class} (Confidence: {confidence:.2f})\")"
   ]
  },
  {
   "cell_type": "code",
   "execution_count": null,
   "id": "f39b75ec-9cbb-4e26-99fb-3b9217a3207e",
   "metadata": {},
   "outputs": [],
   "source": []
  },
  {
   "cell_type": "code",
   "execution_count": 12,
   "id": "97b9b296-c45c-4828-a4a9-68d913664b14",
   "metadata": {},
   "outputs": [
    {
     "data": {
      "image/jpeg": "[encoded data removed]",
      "text/plain": [
       "<IPython.core.display.Image object>"
      ]
     },
     "metadata": {
      "image/jpeg": {
       "height": 200,
       "width": 300
      }
     },
     "output_type": "display_data"
    }
   ],
   "source": [
    "from IPython.display import Image, display\n",
    "\n",
    "file_name = '6.jpg'\n",
    "img = Image(filename=f'data/Gesture_data/NewTest/{file_name}', width=300, height=200)\n",
    "display(img)\n"
   ]
  },
  {
   "cell_type": "code",
   "execution_count": 13,
   "id": "d4fb179c-df70-462b-9856-a0daf7a7e27b",
   "metadata": {},
   "outputs": [
    {
     "name": "stdout",
     "output_type": "stream",
     "text": [
      "1/1 [==============================] - 0s 15ms/step\n",
      "Predicted class: 4 (Confidence: 1.00)\n"
     ]
    }
   ],
   "source": [
    "# Make prediction\n",
    "preprocessed_image = prepare_image(file_name)\n",
    "predictions = model.predict(preprocessed_image)\n",
    "\n",
    "# Interpret result\n",
    "predicted_class = class_labels[int(predictions[0].argmax())]\n",
    "confidence = float(predictions[0].max())\n",
    "\n",
    "print(f\"Predicted class: {predicted_class} (Confidence: {confidence:.2f})\")"
   ]
  },
  {
   "cell_type": "code",
   "execution_count": 14,
   "id": "ddf17518-560f-428d-b8f8-e74c46d63cb9",
   "metadata": {},
   "outputs": [
    {
     "data": {
      "image/jpeg": "[encoded data removed]",
      "text/plain": [
       "<IPython.core.display.Image object>"
      ]
     },
     "metadata": {
      "image/jpeg": {
       "height": 200,
       "width": 300
      }
     },
     "output_type": "display_data"
    }
   ],
   "source": [
    "from IPython.display import Image, display\n",
    "\n",
    "file_name = '10.jpg'\n",
    "img = Image(filename=f'data/Gesture_data/NewTest/{file_name}', width=300, height=200)\n",
    "display(img)\n"
   ]
  },
  {
   "cell_type": "code",
   "execution_count": 15,
   "id": "430a2314-2326-44e5-b9e9-98a3b1457a49",
   "metadata": {},
   "outputs": [
    {
     "name": "stdout",
     "output_type": "stream",
     "text": [
      "1/1 [==============================] - 0s 24ms/step\n",
      "Predicted class: 2 (Confidence: 1.00)\n"
     ]
    }
   ],
   "source": [
    "# Make prediction\n",
    "preprocessed_image = prepare_image(file_name)\n",
    "predictions = model.predict(preprocessed_image)\n",
    "\n",
    "# Interpret result\n",
    "predicted_class = class_labels[int(predictions[0].argmax())]\n",
    "confidence = float(predictions[0].max())\n",
    "\n",
    "print(f\"Predicted class: {predicted_class} (Confidence: {confidence:.2f})\")"
   ]
  },
  {
   "cell_type": "code",
   "execution_count": 16,
   "id": "f865e052-3b29-410d-b7e8-252ae37bae82",
   "metadata": {},
   "outputs": [
    {
     "data": {
      "image/jpeg": "[encoded data removed]",
      "text/plain": [
       "<IPython.core.display.Image object>"
      ]
     },
     "metadata": {
      "image/jpeg": {
       "height": 200,
       "width": 300
      }
     },
     "output_type": "display_data"
    }
   ],
   "source": [
    "from IPython.display import Image, display\n",
    "\n",
    "file_name = '307.jpg'\n",
    "img = Image(filename=f'data/Gesture_data/NewTest/{file_name}', width=300, height=200)\n",
    "display(img)\n"
   ]
  },
  {
   "cell_type": "code",
   "execution_count": 17,
   "id": "569d88ff-0f67-4c01-82c4-673ff1c07055",
   "metadata": {},
   "outputs": [
    {
     "name": "stdout",
     "output_type": "stream",
     "text": [
      "1/1 [==============================] - 0s 17ms/step\n",
      "Predicted class: V (Confidence: 1.00)\n"
     ]
    }
   ],
   "source": [
    "# Make prediction\n",
    "preprocessed_image = prepare_image(file_name)\n",
    "predictions = model.predict(preprocessed_image)\n",
    "\n",
    "# Interpret result\n",
    "predicted_class = class_labels[int(predictions[0].argmax())]\n",
    "confidence = float(predictions[0].max())\n",
    "\n",
    "print(f\"Predicted class: {predicted_class} (Confidence: {confidence:.2f})\")"
   ]
  },
  {
   "cell_type": "code",
   "execution_count": 18,
   "id": "64e896c9-e68f-4f5b-8b6f-3613704f92ef",
   "metadata": {},
   "outputs": [
    {
     "data": {
      "image/jpeg": "[encoded data removed]",
      "text/plain": [
       "<IPython.core.display.Image object>"
      ]
     },
     "metadata": {
      "image/jpeg": {
       "height": 200,
       "width": 300
      }
     },
     "output_type": "display_data"
    }
   ],
   "source": [
    "from IPython.display import Image, display\n",
    "\n",
    "file_name = '44.jpg'\n",
    "img = Image(filename=f'data/Gesture_data/NewTest/{file_name}', width=300, height=200)\n",
    "display(img)\n"
   ]
  },
  {
   "cell_type": "code",
   "execution_count": 19,
   "id": "fe4431f2-48e0-49c7-88a7-aaba9441926a",
   "metadata": {},
   "outputs": [
    {
     "name": "stdout",
     "output_type": "stream",
     "text": [
      "1/1 [==============================] - 0s 16ms/step\n",
      "Predicted class: X (Confidence: 1.00)\n"
     ]
    }
   ],
   "source": [
    "# Make prediction\n",
    "preprocessed_image = prepare_image(file_name)\n",
    "predictions = model.predict(preprocessed_image)\n",
    "\n",
    "# Interpret result\n",
    "predicted_class = class_labels[int(predictions[0].argmax())]\n",
    "confidence = float(predictions[0].max())\n",
    "\n",
    "print(f\"Predicted class: {predicted_class} (Confidence: {confidence:.2f})\")"
   ]
  },
  {
   "cell_type": "code",
   "execution_count": null,
   "id": "ccbad369-85a6-4487-bd50-f3007ef3ae48",
   "metadata": {},
   "outputs": [],
   "source": []
  },
  {
   "cell_type": "code",
   "execution_count": null,
   "id": "e584e5d1-5b88-4ca4-a500-13d1207bc656",
   "metadata": {},
   "outputs": [],
   "source": []
  }
 ],
 "metadata": {
  "kernelspec": {
   "display_name": "Python 3 (ipykernel)",
   "language": "python",
   "name": "python3"
  },
  "language_info": {
   "codemirror_mode": {
    "name": "ipython",
    "version": 3
   },
   "file_extension": ".py",
   "mimetype": "text/x-python",
   "name": "python",
   "nbconvert_exporter": "python",
   "pygments_lexer": "ipython3",
   "version": "3.9.21"
  }
 },
 "nbformat": 4,
 "nbformat_minor": 5
}
